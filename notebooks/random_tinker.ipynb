{
 "cells": [
  {
   "cell_type": "code",
   "execution_count": 1,
   "metadata": {},
   "outputs": [
    {
     "name": "stderr",
     "output_type": "stream",
     "text": [
      "/home/gfrost/anaconda3/envs/penguin/lib/python3.9/site-packages/tqdm/auto.py:22: TqdmWarning: IProgress not found. Please update jupyter and ipywidgets. See https://ipywidgets.readthedocs.io/en/stable/user_install.html\n",
      "  from .autonotebook import tqdm as notebook_tqdm\n"
     ]
    }
   ],
   "source": [
    "import torch\n",
    "import torch.nn as nn\n",
    "import torch.nn.functional as F\n",
    "import numpy as np\n",
    "import matplotlib.pyplot as plt\n",
    "\n",
    "import sys\n",
    "sys.path.append('..')"
   ]
  },
  {
   "cell_type": "code",
   "execution_count": 2,
   "metadata": {},
   "outputs": [],
   "source": [
    "B = 8\n",
    "T = 100\n",
    "C = 5\n",
    "\n",
    "y_hat = torch.randn((B*T, C))\n",
    "log_y_hat = F.log_softmax(y_hat, dim=-1)\n",
    "y = F.softmax(torch.randn((B*T, C)), dim=-1)"
   ]
  },
  {
   "cell_type": "code",
   "execution_count": 3,
   "metadata": {},
   "outputs": [
    {
     "name": "stdout",
     "output_type": "stream",
     "text": [
      "CPU times: user 86.3 ms, sys: 0 ns, total: 86.3 ms\n",
      "Wall time: 19.3 ms\n"
     ]
    },
    {
     "data": {
      "text/plain": [
       "tensor(1.9683)"
      ]
     },
     "execution_count": 3,
     "metadata": {},
     "output_type": "execute_result"
    }
   ],
   "source": [
    "%%time\n",
    "F.cross_entropy(y_hat, y)"
   ]
  },
  {
   "cell_type": "code",
   "execution_count": 4,
   "metadata": {},
   "outputs": [],
   "source": [
    "sample_weights = torch.ones(B*T)\n",
    "sample_weights[400:] = 0.5"
   ]
  },
  {
   "cell_type": "code",
   "execution_count": 5,
   "metadata": {},
   "outputs": [
    {
     "name": "stdout",
     "output_type": "stream",
     "text": [
      "CPU times: user 55.4 ms, sys: 0 ns, total: 55.4 ms\n",
      "Wall time: 14.3 ms\n"
     ]
    },
    {
     "data": {
      "text/plain": [
       "tensor(1.4797)"
      ]
     },
     "execution_count": 5,
     "metadata": {},
     "output_type": "execute_result"
    }
   ],
   "source": [
    "%%time\n",
    "-1*(torch.mean(sample_weights*torch.bmm(y.unsqueeze(dim=-2), log_y_hat.unsqueeze(dim=-1)).squeeze()))"
   ]
  },
  {
   "cell_type": "code",
   "execution_count": 9,
   "metadata": {},
   "outputs": [
    {
     "data": {
      "text/plain": [
       "tensor([1.0000, 2.4649, 4.7761, 5.3335, 5.6844])"
      ]
     },
     "execution_count": 9,
     "metadata": {},
     "output_type": "execute_result"
    }
   ],
   "source": [
    "torch.load('../logs/label_weights.pt')"
   ]
  },
  {
   "cell_type": "code",
   "execution_count": 11,
   "metadata": {},
   "outputs": [],
   "source": [
    "\n",
    "lengths = torch.randint(50, 101, size=(8,))\n",
    "\n",
    "indexs = torch.arange(100).unsqueeze(dim=0).repeat(lengths.size(0), 1).type_as(lengths)\n",
    "lengths = lengths.unsqueeze(dim=-1).repeat(1, 100)\n",
    "padding_mask = indexs > lengths\n",
    "padding_mask = padding_mask.to(torch.uint8)"
   ]
  },
  {
   "cell_type": "code",
   "execution_count": 21,
   "metadata": {},
   "outputs": [],
   "source": [
    "boradcast_mask = torch.matmul(padding_mask.unsqueeze(dim=-1), padding_mask.unsqueeze(dim=-2))"
   ]
  },
  {
   "cell_type": "code",
   "execution_count": 20,
   "metadata": {},
   "outputs": [
    {
     "data": {
      "text/plain": [
       "tensor([0, 0, 0, 0, 0, 0, 0, 0, 0, 0, 0, 0, 0, 0, 0, 0, 0, 0, 0, 0, 0, 0, 0, 0,\n",
       "        0, 0, 0, 0, 0, 0, 0, 0, 0, 0, 0, 0, 0, 0, 0, 0, 0, 0, 0, 0, 0, 0, 0, 0,\n",
       "        0, 0, 0, 0, 0, 0, 0, 0, 0, 0, 0, 0, 0, 0, 0, 0, 0, 0, 0, 0, 0, 0, 0, 0,\n",
       "        0, 0, 1, 1, 1, 1, 1, 1, 1, 1, 1, 1, 1, 1, 1, 1, 1, 1, 1, 1, 1, 1, 1, 1,\n",
       "        1, 1, 1, 1], dtype=torch.uint8)"
      ]
     },
     "execution_count": 20,
     "metadata": {},
     "output_type": "execute_result"
    }
   ],
   "source": [
    "padding_mask[0]"
   ]
  },
  {
   "cell_type": "code",
   "execution_count": 17,
   "metadata": {},
   "outputs": [
    {
     "data": {
      "text/plain": [
       "<matplotlib.image.AxesImage at 0x7f3488e95280>"
      ]
     },
     "execution_count": 17,
     "metadata": {},
     "output_type": "execute_result"
    },
    {
     "data": {
      "image/png": "[encoded data removed]",
      "text/plain": [
       "<Figure size 432x288 with 1 Axes>"
      ]
     },
     "metadata": {
      "needs_background": "light"
     },
     "output_type": "display_data"
    }
   ],
   "source": [
    "plt.imshow(boradcast_mask[0])"
   ]
  },
  {
   "cell_type": "code",
   "execution_count": 14,
   "metadata": {},
   "outputs": [],
   "source": [
    "# ckpt = torch.load('../logs/final/blstm/lightning_logs/version_0/checkpoints/35-0.00-0.00.ckpt')\n",
    "ckpt = torch.load('../logs/final/blstm/lightning_logs/version_1/checkpoints/6-0.00-0.00.ckpt')"
   ]
  },
  {
   "cell_type": "code",
   "execution_count": 15,
   "metadata": {},
   "outputs": [
    {
     "data": {
      "text/plain": [
       "odict_keys(['encoder.embedding_layer.weight_ih_l0', 'encoder.embedding_layer.weight_hh_l0', 'encoder.embedding_layer.bias_ih_l0', 'encoder.embedding_layer.bias_hh_l0', 'encoder.embedding_layer.weight_ih_l0_reverse', 'encoder.embedding_layer.weight_hh_l0_reverse', 'encoder.embedding_layer.bias_ih_l0_reverse', 'encoder.embedding_layer.bias_hh_l0_reverse', 'encoder.embedding_layer.weight_ih_l1', 'encoder.embedding_layer.weight_hh_l1', 'encoder.embedding_layer.bias_ih_l1', 'encoder.embedding_layer.bias_hh_l1', 'encoder.embedding_layer.weight_ih_l1_reverse', 'encoder.embedding_layer.weight_hh_l1_reverse', 'encoder.embedding_layer.bias_ih_l1_reverse', 'encoder.embedding_layer.bias_hh_l1_reverse', 'encoder.embedding_fc.weight', 'encoder.embedding_fc.bias', 'encoder.embedding_bn.running_mean', 'encoder.embedding_bn.running_var', 'encoder.embedding_bn.num_batches_tracked', 'encoder.blstm_layer.weight_ih_l0', 'encoder.blstm_layer.weight_hh_l0', 'encoder.blstm_layer.bias_ih_l0', 'encoder.blstm_layer.bias_hh_l0', 'encoder.blstm_layer.weight_ih_l0_reverse', 'encoder.blstm_layer.weight_hh_l0_reverse', 'encoder.blstm_layer.bias_ih_l0_reverse', 'encoder.blstm_layer.bias_hh_l0_reverse', 'encoder.blstm_layer.weight_ih_l1', 'encoder.blstm_layer.weight_hh_l1', 'encoder.blstm_layer.bias_ih_l1', 'encoder.blstm_layer.bias_hh_l1', 'encoder.blstm_layer.weight_ih_l1_reverse', 'encoder.blstm_layer.weight_hh_l1_reverse', 'encoder.blstm_layer.bias_ih_l1_reverse', 'encoder.blstm_layer.bias_hh_l1_reverse', 'encoder.blstm_layer.weight_ih_l2', 'encoder.blstm_layer.weight_hh_l2', 'encoder.blstm_layer.bias_ih_l2', 'encoder.blstm_layer.bias_hh_l2', 'encoder.blstm_layer.weight_ih_l2_reverse', 'encoder.blstm_layer.weight_hh_l2_reverse', 'encoder.blstm_layer.bias_ih_l2_reverse', 'encoder.blstm_layer.bias_hh_l2_reverse', 'encoder.head.weight', 'encoder.head.bias', 'encoder.layer_norm.weight', 'encoder.layer_norm.bias', 'head.weight', 'head.bias'])"
      ]
     },
     "execution_count": 15,
     "metadata": {},
     "output_type": "execute_result"
    }
   ],
   "source": [
    "ckpt['state_dict'].keys()"
   ]
  },
  {
   "cell_type": "code",
   "execution_count": 2,
   "metadata": {},
   "outputs": [],
   "source": [
    "preds = torch.load('/home/gfrost/projects/penguin/logs/results/wavlm-large_predictions_dcfg_0.pt')"
   ]
  },
  {
   "cell_type": "code",
   "execution_count": 26,
   "metadata": {},
   "outputs": [],
   "source": [
    "y_hat = preds[0]\n",
    "y = preds[1]"
   ]
  },
  {
   "cell_type": "code",
   "execution_count": 31,
   "metadata": {},
   "outputs": [],
   "source": [
    "accuracy = (torch.softmax(y_hat, dim=-1).argmax(dim=-1) == y).sum().float() / float(y.size(0))"
   ]
  },
  {
   "cell_type": "code",
   "execution_count": 30,
   "metadata": {},
   "outputs": [
    {
     "data": {
      "text/plain": [
       "tensor(0)"
      ]
     },
     "execution_count": 30,
     "metadata": {},
     "output_type": "execute_result"
    }
   ],
   "source": [
    "torch.softmax(y_hat, dim=-1).argmax(dim=-1).min()"
   ]
  },
  {
   "cell_type": "code",
   "execution_count": 32,
   "metadata": {},
   "outputs": [
    {
     "data": {
      "text/plain": [
       "tensor(0.5293)"
      ]
     },
     "execution_count": 32,
     "metadata": {},
     "output_type": "execute_result"
    }
   ],
   "source": [
    "accuracy"
   ]
  }
 ],
 "metadata": {
  "kernelspec": {
   "display_name": "Python 3.9.12 ('penguin')",
   "language": "python",
   "name": "python3"
  },
  "language_info": {
   "codemirror_mode": {
    "name": "ipython",
    "version": 3
   },
   "file_extension": ".py",
   "mimetype": "text/x-python",
   "name": "python",
   "nbconvert_exporter": "python",
   "pygments_lexer": "ipython3",
   "version": "3.9.12"
  },
  "orig_nbformat": 4,
  "vscode": {
   "interpreter": {
    "hash": "4f5ccf0edd792a46bb8f186cfaeaecd18c8446d3eb40ff41bb5151f9e3e53f00"
   }
  }
 },
 "nbformat": 4,
 "nbformat_minor": 2
}
