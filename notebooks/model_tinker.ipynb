{
 "cells": [
  {
   "cell_type": "code",
   "execution_count": 1,
   "metadata": {},
   "outputs": [
    {
     "name": "stderr",
     "output_type": "stream",
     "text": [
      "/home/gfrost/anaconda3/envs/penguin/lib/python3.9/site-packages/tqdm/auto.py:22: TqdmWarning: IProgress not found. Please update jupyter and ipywidgets. See https://ipywidgets.readthedocs.io/en/stable/user_install.html\n",
      "  from .autonotebook import tqdm as notebook_tqdm\n"
     ]
    }
   ],
   "source": [
    "import torchaudio\n",
    "import torch\n",
    "import torch.nn.functional as F\n",
    "import pandas as pd\n",
    "from torch.nn.utils.rnn import pad_sequence\n",
    "import matplotlib.pyplot as plt\n",
    "import sys\n",
    "sys.path.append('..')\n",
    "\n",
    "from models.lit_cs_detector import interp_targets, get_padding_masks_from_length, LitCSDetector, ModelConfig\n",
    "from utils.transforms import AudioTransforms"
   ]
  },
  {
   "cell_type": "markdown",
   "metadata": {},
   "source": [
    "### Model tinker"
   ]
  },
  {
   "cell_type": "code",
   "execution_count": 36,
   "metadata": {},
   "outputs": [],
   "source": [
    "config = ModelConfig()\n",
    "config.backbone = 'wavlm-large'\n",
    "config.freeze_feature_extractor = True\n",
    "model = LitCSDetector(model_config=config)"
   ]
  },
  {
   "cell_type": "code",
   "execution_count": 37,
   "metadata": {},
   "outputs": [
    {
     "data": {
      "text/plain": [
       "1024"
      ]
     },
     "execution_count": 37,
     "metadata": {},
     "output_type": "execute_result"
    },
    {
     "ename": "",
     "evalue": "",
     "output_type": "error",
     "traceback": [
      "The Kernel crashed while executing code in the the current cell or a previous cell. Please review the code in the cell(s) to identify a possible cause of the failure. Click <a href='https://aka.ms/vscodeJupyterKernelCrash'>here</a> for more info. View Jupyter <a href='command:jupyter.viewOutput'>log</a> for further details."
     ]
    }
   ],
   "source": [
    "list(model.backbone.encoder.parameters())[-1].shape[0]"
   ]
  },
  {
   "cell_type": "code",
   "execution_count": 3,
   "metadata": {},
   "outputs": [
    {
     "data": {
      "text/html": [
       "<div>\n",
       "<style scoped>\n",
       "    .dataframe tbody tr th:only-of-type {\n",
       "        vertical-align: middle;\n",
       "    }\n",
       "\n",
       "    .dataframe tbody tr th {\n",
       "        vertical-align: top;\n",
       "    }\n",
       "\n",
       "    .dataframe thead th {\n",
       "        text-align: right;\n",
       "    }\n",
       "</style>\n",
       "<table border=\"1\" class=\"dataframe\">\n",
       "  <thead>\n",
       "    <tr style=\"text-align: right;\">\n",
       "      <th></th>\n",
       "      <th>audio_fpath</th>\n",
       "      <th>tgts</th>\n",
       "    </tr>\n",
       "  </thead>\n",
       "  <tbody>\n",
       "    <tr>\n",
       "      <th>0</th>\n",
       "      <td>//home/gfrost/datasets/soapies_balanced_corpor...</td>\n",
       "      <td>[1, 1, 1, 1, 1, 1, 1, 1, 1, 1, 1, 1, 1, 1, 1, ...</td>\n",
       "    </tr>\n",
       "    <tr>\n",
       "      <th>1</th>\n",
       "      <td>//home/gfrost/datasets/soapies_balanced_corpor...</td>\n",
       "      <td>[1, 1, 1, 1, 1, 1, 1, 1, 1, 1, 1, 1, 1, 1, 1, ...</td>\n",
       "    </tr>\n",
       "    <tr>\n",
       "      <th>2</th>\n",
       "      <td>//home/gfrost/datasets/soapies_balanced_corpor...</td>\n",
       "      <td>[1, 1, 1, 1, 1, 1, 1, 1, 1, 1, 1, 1, 1, 1, 1, ...</td>\n",
       "    </tr>\n",
       "    <tr>\n",
       "      <th>3</th>\n",
       "      <td>//home/gfrost/datasets/soapies_balanced_corpor...</td>\n",
       "      <td>[1, 1, 1, 1, 1, 1, 1, 1, 1, 1, 1, 1, 1, 1, 1, ...</td>\n",
       "    </tr>\n",
       "    <tr>\n",
       "      <th>4</th>\n",
       "      <td>//home/gfrost/datasets/soapies_balanced_corpor...</td>\n",
       "      <td>[1, 1, 1, 1, 1, 1, 1, 1, 1, 1, 1, 1, 1, 1, 1, ...</td>\n",
       "    </tr>\n",
       "  </tbody>\n",
       "</table>\n",
       "</div>"
      ],
      "text/plain": [
       "                                         audio_fpath  \\\n",
       "0  //home/gfrost/datasets/soapies_balanced_corpor...   \n",
       "1  //home/gfrost/datasets/soapies_balanced_corpor...   \n",
       "2  //home/gfrost/datasets/soapies_balanced_corpor...   \n",
       "3  //home/gfrost/datasets/soapies_balanced_corpor...   \n",
       "4  //home/gfrost/datasets/soapies_balanced_corpor...   \n",
       "\n",
       "                                                tgts  \n",
       "0  [1, 1, 1, 1, 1, 1, 1, 1, 1, 1, 1, 1, 1, 1, 1, ...  \n",
       "1  [1, 1, 1, 1, 1, 1, 1, 1, 1, 1, 1, 1, 1, 1, 1, ...  \n",
       "2  [1, 1, 1, 1, 1, 1, 1, 1, 1, 1, 1, 1, 1, 1, 1, ...  \n",
       "3  [1, 1, 1, 1, 1, 1, 1, 1, 1, 1, 1, 1, 1, 1, 1, ...  \n",
       "4  [1, 1, 1, 1, 1, 1, 1, 1, 1, 1, 1, 1, 1, 1, 1, ...  "
      ]
     },
     "execution_count": 3,
     "metadata": {},
     "output_type": "execute_result"
    }
   ],
   "source": [
    "path = '/home/gfrost/datasets/soapies_balanced_corpora/cs_engzul_balanced/lang_targs_mult/cs_engzul_trn.pkl'\n",
    "df = pd.read_pickle(path)\n",
    "df.head()"
   ]
  },
  {
   "cell_type": "code",
   "execution_count": 4,
   "metadata": {},
   "outputs": [],
   "source": [
    "audio_path = df.iloc[8000]['audio_fpath']\n",
    "tgts1 = torch.tensor(df.iloc[8000]['tgts'])\n",
    "waveform1, sample_rate = torchaudio.load(audio_path)\n",
    "\n",
    "audio_path = df.iloc[8001]['audio_fpath']\n",
    "tgts2 = torch.tensor(df.iloc[8001]['tgts'])\n",
    "waveform2, sample_rate = torchaudio.load(audio_path)\n",
    "\n",
    "waveforms = pad_sequence([waveform1.reshape(-1, 1), waveform2.reshape(-1, 1)], batch_first=True)\n",
    "ll = torch.tensor([waveform1.size(1), waveform2.size(1)])\n",
    "targets = pad_sequence([tgts1.reshape(-1, 1), tgts2.reshape(-1, 1,)], padding_value=0, batch_first=True).squeeze()"
   ]
  },
  {
   "cell_type": "code",
   "execution_count": 5,
   "metadata": {},
   "outputs": [
    {
     "name": "stdout",
     "output_type": "stream",
     "text": [
      "CPU times: user 3 µs, sys: 0 ns, total: 3 µs\n",
      "Wall time: 5.01 µs\n"
     ]
    }
   ],
   "source": [
    "%time\n",
    "audio_transforms = AudioTransforms()\n",
    "kek = waveforms.squeeze().cuda()\n",
    "x, sr = audio_transforms.forward(kek.cpu())\n",
    "x = x.cuda()"
   ]
  },
  {
   "cell_type": "code",
   "execution_count": 41,
   "metadata": {},
   "outputs": [],
   "source": [
    "from scipy.io import wavfile\n",
    "import numpy as np\n",
    "\n",
    "path = \"transformed.wav\"\n",
    "wavfile.write(path, 16000, np.array(x[0].cpu()))"
   ]
  },
  {
   "cell_type": "code",
   "execution_count": 42,
   "metadata": {},
   "outputs": [],
   "source": [
    "path = \"raw.wav\"\n",
    "wavfile.write(path, 16000, np.array(kek[0].cpu()))"
   ]
  },
  {
   "cell_type": "code",
   "execution_count": 6,
   "metadata": {},
   "outputs": [],
   "source": [
    "padding_masks = get_padding_masks_from_length(waveforms.squeeze(), ll)\n",
    "x, lengths = model.backbone.extract_features(waveforms.squeeze(), padding_mask=padding_masks, ret_lengths=True)\n",
    "y = interp_targets(targets, torch.max(lengths))"
   ]
  },
  {
   "cell_type": "code",
   "execution_count": 88,
   "metadata": {},
   "outputs": [],
   "source": [
    "class MixUp():\n",
    "        def __init__(self, mixup_prob=0.25, mixup_size=0.2, beta=0.3):\n",
    "            self.mixup_size = mixup_size\n",
    "            self.mixup_prob = mixup_prob\n",
    "            self.beta_percentage = beta\n",
    "\n",
    "        def forward(self, x, lengths, y):\n",
    "            \n",
    "            time_param = int(lengths.min()*self.mixup_size)\n",
    "            self.beta = (torch.rand(1) * self.beta_percentage).to(x.device)\n",
    "            axis=1\n",
    "\n",
    "            shape = x.size()\n",
    "            value = torch.rand(1) * time_param\n",
    "            min_value = torch.rand(1) * (time_param - value)\n",
    "\n",
    "            mask_start = (min_value.long()).squeeze()\n",
    "            mask_end = (min_value.long() + value.long()).squeeze()\n",
    "            mask = torch.arange(0, x.shape[axis], device=x.device, dtype=x.dtype)\n",
    "            mask = (mask >= mask_start) & (mask < mask_end)\n",
    "\n",
    "            assert mask_end - mask_start < time_param\n",
    "\n",
    "            x, y, index = self.mixup(x, y, mask)\n",
    "\n",
    "            return x, y, index\n",
    "\n",
    "        def mixup(self, x, y, mask):\n",
    "\n",
    "            samples_to_apply_mixup = (torch.rand(x.size(0)) < self.mixup_prob).to(x.device)\n",
    "\n",
    "            if samples_to_apply_mixup.any() != True: return x, y, index\n",
    "\n",
    "            x_rolled = x.roll(1, 0)\n",
    "            y_rolled = y.roll(1, 0)\n",
    "            y_rolled = y_rolled.float()\n",
    "            y = y.float()\n",
    "            broadcast_indexs = samples_to_apply_mixup.unsqueeze(dim=-1).repeat(1, mask.size(0))\n",
    "            broadcast_masks = mask.repeat(samples_to_apply_mixup.size(0), 1)\n",
    "            index = torch.logical_and(broadcast_indexs, broadcast_masks)\n",
    "\n",
    "            x[index] = (1-self.beta)*x[index] + self.beta*x_rolled[index]\n",
    "            y[index] = (1-self.beta)*y[index] + self.beta*y_rolled[index]\n",
    "\n",
    "            return x, y, index"
   ]
  },
  {
   "cell_type": "code",
   "execution_count": 89,
   "metadata": {},
   "outputs": [],
   "source": [
    "mix_up = MixUp(mixup_prob=1, mixup_size=1, beta=1)"
   ]
  },
  {
   "cell_type": "code",
   "execution_count": 103,
   "metadata": {},
   "outputs": [],
   "source": [
    "kek = torch.zeros_like(x)\n",
    "kek[1] = 1\n",
    "kek_mix, kek_y, index = mix_up.forward(kek, torch.tensor([97, 97]), F.one_hot(y.to(torch.long), num_classes=3).float())\n",
    "# x_mix, y, index = mix_up.forward(x, lengths, F.one_hot(y.to(torch.long), num_classes=3).float())"
   ]
  },
  {
   "cell_type": "code",
   "execution_count": 104,
   "metadata": {},
   "outputs": [
    {
     "data": {
      "text/plain": [
       "<matplotlib.image.AxesImage at 0x7f88aba77a90>"
      ]
     },
     "execution_count": 104,
     "metadata": {},
     "output_type": "execute_result"
    },
    {
     "data": {
      "image/png": "[encoded data removed]",
      "text/plain": [
       "<Figure size 432x288 with 1 Axes>"
      ]
     },
     "metadata": {
      "needs_background": "light"
     },
     "output_type": "display_data"
    }
   ],
   "source": [
    "plt.imshow(kek_y[0][index[1]].T)"
   ]
  },
  {
   "cell_type": "code",
   "execution_count": 105,
   "metadata": {},
   "outputs": [
    {
     "data": {
      "text/plain": [
       "<matplotlib.image.AxesImage at 0x7f88ab9e5f40>"
      ]
     },
     "execution_count": 105,
     "metadata": {},
     "output_type": "execute_result"
    },
    {
     "data": {
      "image/png": "[encoded data removed]",
      "text/plain": [
       "<Figure size 432x288 with 1 Axes>"
      ]
     },
     "metadata": {
      "needs_background": "light"
     },
     "output_type": "display_data"
    }
   ],
   "source": [
    "plt.imshow(kek_y[1][index[1]].T)"
   ]
  },
  {
   "cell_type": "code",
   "execution_count": 107,
   "metadata": {},
   "outputs": [
    {
     "data": {
      "text/plain": [
       "<matplotlib.image.AxesImage at 0x7f88abd17670>"
      ]
     },
     "execution_count": 107,
     "metadata": {},
     "output_type": "execute_result"
    },
    {
     "data": {
      "image/png": "[encoded data removed]",
      "text/plain": [
       "<Figure size 432x288 with 1 Axes>"
      ]
     },
     "metadata": {
      "needs_background": "light"
     },
     "output_type": "display_data"
    }
   ],
   "source": [
    "plt.imshow(kek_mix[1].T)"
   ]
  },
  {
   "cell_type": "markdown",
   "metadata": {},
   "source": [
    "### Soft loss"
   ]
  },
  {
   "cell_type": "code",
   "execution_count": null,
   "metadata": {},
   "outputs": [],
   "source": [
    "def cat_neighbors_for_soft_units(x, soft_units_context):\n",
    "\n",
    "    x_l = torch.zeros_like(x).repeat(1, 1, soft_units_context)\n",
    "    x_r = torch.zeros_like(x).repeat(1, 1, soft_units_context)\n",
    "\n",
    "    for i in range(soft_units_context): x_l[:, i+1:, i*x.size(-1):(i+1)*x.size(-1)] = x[:, :-(i+1), :]\n",
    "    for i in range(soft_units_context): x_r[:, :-(i+1), i*x.size(-1):(i+1)*x.size(-1)] = x[:, i+1:, :]\n",
    "\n",
    "    return torch.cat([x, x_l, x_r], dim=-1)"
   ]
  },
  {
   "cell_type": "code",
   "execution_count": null,
   "metadata": {},
   "outputs": [],
   "source": [
    "x = torch.ones(1,100,8) - 2\n",
    "x[:, 1::2, :] = 1\n",
    "x[:, 1::3, :] = 0\n",
    "x = cat_neighbors_for_soft_units(x, 2)"
   ]
  },
  {
   "cell_type": "code",
   "execution_count": null,
   "metadata": {},
   "outputs": [],
   "source": [
    "print(x.shape)"
   ]
  },
  {
   "cell_type": "code",
   "execution_count": null,
   "metadata": {},
   "outputs": [],
   "source": [
    "import matplotlib.pyplot as plt\n",
    "from matplotlib.pyplot import figure\n",
    "\n",
    "figure(figsize=(8, 6), dpi=80)\n",
    "plt.imshow(x[0].T)"
   ]
  },
  {
   "cell_type": "markdown",
   "metadata": {},
   "source": [
    "### Cross Entropy"
   ]
  },
  {
   "cell_type": "code",
   "execution_count": null,
   "metadata": {},
   "outputs": [],
   "source": [
    "import torch\n",
    "import torch.nn as nn\n",
    "import torch.nn.functional as F\n",
    "import numpy as np\n",
    "import matplotlib.pyplot as plt\n",
    "import numpy as np\n",
    "\n",
    "targets = torch.zeros((8, 50))\n",
    "targets = torch.cat((targets, 2*torch.ones((8, 50))), dim=-1)\n",
    "targets = torch.cat((targets, torch.ones((8, 50))), dim=-1)\n",
    "targets = torch.cat((targets, torch.zeros((8, 50))), dim=-1)\n",
    "targets = torch.cat((targets, torch.zeros((1, 200))), dim=0)\n",
    "lengths = torch.tensor([100]*8 + [150])\n",
    "y_hat = torch.rand((9, 100, 3))"
   ]
  },
  {
   "cell_type": "code",
   "execution_count": null,
   "metadata": {},
   "outputs": [],
   "source": [
    "def powspace(start, stop, power, num):\n",
    "    start = torch.pow(torch.tensor(start), 1/float(power))\n",
    "    stop = torch.pow(torch.tensor(stop), 1/float(power))\n",
    "    return torch.pow( torch.linspace(start, stop, num), power)\n",
    "\n",
    "def fuzzy_cs_labels(targets, lengths, num_classes, buffer_length=5, buffer_lower_bound=0.5, ord=1):\n",
    "\n",
    "    assert buffer_lower_bound >= 0.5, \"buffer_lower_bound cannot be less than 0.5\"\n",
    "\n",
    "    grad = torch.gradient(targets, dim=-1)[0]\n",
    "    switches = torch.where(grad!=0)\n",
    "\n",
    "    l_s = targets[switches[0][1::2], switches[1][0::2]].long()\n",
    "    r_s = targets[switches[0][1::2], switches[1][1::2]].long()\n",
    "\n",
    "    l_index = switches[1][0::2]\n",
    "    r_index = switches[1][1::2]\n",
    "    b_index = switches[0][1::2]\n",
    "\n",
    "    if ord == 1: inter_probs_ =  torch.linspace(buffer_lower_bound, 1, buffer_length)\n",
    "    else: inter_probs_ = torch.tensor([buffer_lower_bound]*buffer_length) + powspace(0, 1-buffer_lower_bound, power=ord, num=buffer_length)\n",
    "    \n",
    "    inter_probs_ = torch.stack([inter_probs_, 1-inter_probs_], dim=-1)\n",
    "    inter_probs = torch.cat([torch.flip(inter_probs_, dims=[0, 1]), inter_probs_], dim=0)\n",
    "\n",
    "    half_way = len(inter_probs)//2 + 1\n",
    "    switch_from_pad = r_index+half_way+1 <= lengths[b_index]\n",
    "    b_index = b_index[switch_from_pad]\n",
    "    l_index = l_index[switch_from_pad]\n",
    "    l_s = l_s[switch_from_pad]\n",
    "    r_s = r_s[switch_from_pad]\n",
    "    one_hot_labels = F.one_hot(targets.to(torch.long), num_classes=num_classes).float()\n",
    "    if len(b_index):\n",
    "        for i, prob in enumerate(inter_probs):\n",
    "\n",
    "            idex = torch.tensor(len(inter_probs)-i)\n",
    "            assert(b_index.max() <= lengths.size(0)), f'{b_index.max()} > bs {lengths.size(0)}'\n",
    "            assert((l_index+half_way-idex).max() < one_hot_labels.size(-2)), f'{(l_index+half_way-idex).max()} > max seq len'\n",
    "\n",
    "            one_hot_labels[b_index, l_index+half_way-idex, l_s] = prob[1]\n",
    "            one_hot_labels[b_index, l_index+half_way-idex, r_s] = prob[0]\n",
    "            \n",
    "    del r_s, l_s, l_index, r_index, inter_probs\n",
    "\n",
    "    return one_hot_labels.float(), grad"
   ]
  },
  {
   "cell_type": "code",
   "execution_count": null,
   "metadata": {},
   "outputs": [],
   "source": [
    "fuzzy_one_hots_exp, grad = fuzzy_cs_labels(targets, lengths, 3, buffer_length=7, buffer_lower_bound=0.7, ord=0.5)\n",
    "fuzzy_one_hots_lin, grad = fuzzy_cs_labels(targets, lengths, 3, buffer_length=7, buffer_lower_bound=0.7)"
   ]
  },
  {
   "cell_type": "code",
   "execution_count": null,
   "metadata": {},
   "outputs": [],
   "source": [
    "plt.plot(fuzzy_one_hots_lin[0, 10:80, 0])\n",
    "plt.plot(fuzzy_one_hots_lin[0, 10:80, 2])\n",
    "plt.plot(fuzzy_one_hots_exp[0, 10:80, 0])\n",
    "plt.plot(fuzzy_one_hots_exp[0, 10:80, 2])"
   ]
  },
  {
   "cell_type": "code",
   "execution_count": null,
   "metadata": {},
   "outputs": [],
   "source": [
    "def interp_targets(targets, max_length):\n",
    "    targets_ = targets.reshape(targets.size(0), 1, 1, targets.size(1)).to(torch.float32)\n",
    "    interp_legnths = (1, max_length)\n",
    "    ds_targets = F.interpolate(targets_, interp_legnths).squeeze()\n",
    "    return ds_targets.to(torch.long)"
   ]
  },
  {
   "cell_type": "code",
   "execution_count": null,
   "metadata": {},
   "outputs": [],
   "source": [
    "class label_smooth_loss(torch.nn.Module):\n",
    "    def __init__(self, num_classes, smoothing=0.1):\n",
    "        super(label_smooth_loss, self).__init__()\n",
    "        eps = smoothing / num_classes\n",
    "        self.negative = eps\n",
    "        self.positive = (1 - smoothing) + eps\n",
    "    \n",
    "    def forward(self, pred, target):\n",
    "        pred = pred.log_softmax(dim=1)\n",
    "        true_dist = torch.zeros_like(pred)\n",
    "        true_dist.fill_(self.negative)\n",
    "        true_dist.scatter_(1, target.data.unsqueeze(1), self.positive)\n",
    "        return torch.sum(-true_dist * pred, dim=1).mean(), true_dist\n",
    "\n",
    "loss_func = label_smooth_loss(3)"
   ]
  },
  {
   "cell_type": "code",
   "execution_count": null,
   "metadata": {},
   "outputs": [],
   "source": [
    "# Based off Deep Learning, Goodfellow et al definition\n",
    "class CustomLabelSmoothingCrossEntropy(nn.Module):\n",
    "    def __init__(self, epsilon: float = 0.1, reduction='mean'):\n",
    "        \"\"\"Custom cross entropy with label smoothing, which allows\n",
    "        for label smoothing to be applied to a ground truth distribution\n",
    "        IMPORTANT: Does not get same loss as torch w/ one-hot labels \"\"\"\n",
    "        super().__init__()\n",
    "        self.epsilon = epsilon\n",
    "        self.reduction = reduction\n",
    "\n",
    "    def forward(self, preds, target):\n",
    "        if len(target.size()) < 2: F.one_hot(target)\n",
    "        n = target.size(-1)\n",
    "\n",
    "        max_probs, idxs = torch.max(target, dim=-1)\n",
    "        \n",
    "        residuals = max_probs * self.epsilon\n",
    "        norm_residuals = residuals / (n - 1)\n",
    "\n",
    "        target[range(len(idxs)), idxs] = target[range(len(idxs)), idxs] - residuals\n",
    "        target = target + norm_residuals.unsqueeze(dim=-1).repeat(1, n)\n",
    "        target[range(len(idxs)), idxs] = target[range(len(idxs)), idxs] - norm_residuals\n",
    "\n",
    "        return F.cross_entropy(preds, target)\n",
    "\n"
   ]
  },
  {
   "cell_type": "code",
   "execution_count": null,
   "metadata": {},
   "outputs": [],
   "source": [
    "fake_preds = torch.randn_like(fuzzy_one_hots_lin[0])"
   ]
  },
  {
   "cell_type": "code",
   "execution_count": null,
   "metadata": {},
   "outputs": [],
   "source": [
    "smoothing = 0.1\n",
    "custom_loss_func = CustomLabelSmoothingCrossEntropy(epsilon=smoothing)\n",
    "custom_label_smooth = custom_loss_func(fake_preds, fuzzy_one_hots_lin[0].detach().clone())\n",
    "torch_label_smooth = F.cross_entropy(fake_preds, fuzzy_one_hots_lin[0].detach().clone(), label_smoothing=smoothing)\n",
    "\n",
    "print(f'torch smoothing: {torch_label_smooth}')\n",
    "print(f'custom smoothing: {custom_label_smooth}')"
   ]
  },
  {
   "cell_type": "markdown",
   "metadata": {},
   "source": [
    "### CTC"
   ]
  },
  {
   "cell_type": "code",
   "execution_count": null,
   "metadata": {},
   "outputs": [],
   "source": [
    "ds_factor = 335"
   ]
  },
  {
   "cell_type": "code",
   "execution_count": null,
   "metadata": {},
   "outputs": [],
   "source": [
    "# Hacky way to use torch's vision interpolation stuff\n",
    "\n",
    "alpha = 0.49 # Shrink factor to get ctc to work\n",
    "\n",
    "tgts = torch.tensor(tgts1, dtype=torch.float32).reshape(1, 1, 1, -1)\n",
    "ds_size1 = int(tgts.size(-1)/ds_factor*alpha)\n",
    "interp_legnths1 = (1,  ds_size1)\n",
    "interp_tgts1 = F.interpolate(tgts, interp_legnths1).squeeze()\n",
    "\n",
    "tgts = torch.tensor(tgts2, dtype=torch.float32).reshape(1, 1, 1, -1)\n",
    "ds_size2 = int(tgts.size(-1)/ds_factor*alpha)\n",
    "interp_legnths2 = (1,  ds_size2)\n",
    "interp_tgts2 = F.interpolate(tgts, interp_legnths2).squeeze()\n",
    "\n",
    "target = pad_sequence([interp_tgts1.reshape(-1, 1), interp_tgts2.reshape(-1, 1)], batch_first=True, padding_value=1).squeeze()\n",
    "target_lengths = torch.stack([torch.tensor(ds_size1), torch.tensor(ds_size2)])"
   ]
  },
  {
   "cell_type": "code",
   "execution_count": null,
   "metadata": {},
   "outputs": [],
   "source": [
    "target = target.to(torch.long)\n",
    "input = F.log_softmax(y_hat, dim=-1)\n",
    "N, T, C = input.shape\n",
    "input = input.view(((T, N, C)))"
   ]
  },
  {
   "cell_type": "code",
   "execution_count": null,
   "metadata": {},
   "outputs": [],
   "source": [
    "#loss = ctc_loss(input, target, input_lengths, target_lengths)\n",
    "ctc_loss = torch.nn.CTCLoss(blank=0, zero_infinity=True)\n",
    "ctc_loss(input, target, lengths, target_lengths)"
   ]
  },
  {
   "cell_type": "code",
   "execution_count": null,
   "metadata": {},
   "outputs": [],
   "source": [
    "T = 48\n",
    "C = 3\n",
    "N = 2\n",
    "\n",
    "S = 30\n",
    "S_min = 29\n",
    "\n",
    "input = torch.randn(T, N, C).log_softmax(2).detach().requires_grad_()\n",
    "target = torch.randint(low=1, high=C, size=(N, S), dtype=torch.long)\n",
    "input_lengths = torch.full(size=(N,), fill_value=T, dtype=torch.long)\n",
    "target_lengths = torch.randint(low=S_min, high=S, size=(N,), dtype=torch.long)\n",
    "\n",
    "ctc_loss = torch.nn.CTCLoss(blank=0, zero_infinity=False)\n",
    "\n",
    "print(loss)"
   ]
  },
  {
   "cell_type": "markdown",
   "metadata": {},
   "source": [
    "### Train"
   ]
  },
  {
   "cell_type": "code",
   "execution_count": null,
   "metadata": {},
   "outputs": [],
   "source": [
    "import sys\n",
    "sys.path.append('..')\n",
    "import torch\n",
    "import pandas as pd\n",
    "import pytorch_lightning as pl\n",
    "from pytorch_lightning import loggers as pl_loggers\n",
    "from pytorch_lightning.callbacks import LearningRateMonitor, ModelCheckpoint, DeviceStatsMonitor\n",
    "from finetuning_scheduler import FinetuningScheduler\n",
    "from utils.datasets import CSDataset, collator\n",
    "from torch.utils.data import DataLoader\n",
    "from models.lit_cs_detector import LitCSDetector, ModelConfig\n",
    "\n",
    "root_path = '/home/gfrost/datasets'\n",
    "\n",
    "path = f'{root_path}/soapies_balanced_corpora/cs_engzul_balanced/lang_targs_mult/cs_engzul_trn.pkl'\n",
    "df_trn = pd.read_pickle(path)\n",
    "path = f'{root_path}/soapies_balanced_corpora/cs_engzul_balanced/lang_targs_mult/cs_engzul_dev.pkl'\n",
    "df_dev = pd.read_pickle(path)\n",
    "path = f'{root_path}/soapies_balanced_corpora/cs_engzul_balanced/lang_targs_mult/cs_engzul_tst.pkl'\n",
    "df_tst = pd.read_pickle(path)"
   ]
  },
  {
   "cell_type": "code",
   "execution_count": null,
   "metadata": {},
   "outputs": [],
   "source": [
    "def norm_labels(x):\n",
    "    x[x > 0] = 1.0\n",
    "    return x\n",
    "\n",
    "df_trn.tgts.map(norm_labels)"
   ]
  },
  {
   "cell_type": "code",
   "execution_count": null,
   "metadata": {},
   "outputs": [],
   "source": [
    "df_trn.tgts"
   ]
  },
  {
   "cell_type": "code",
   "execution_count": null,
   "metadata": {},
   "outputs": [],
   "source": [
    "BS_SIZE = 8\n",
    "df_trn.tgts = df_trn.tgts-1\n",
    "df_dev.tgts = df_dev.tgts-1\n",
    "dataset_trn = CSDataset(df_trn)\n",
    "dataset_dev = CSDataset(df_dev)\n",
    "\n",
    "train_dataloader = DataLoader(dataset_trn, batch_size=BS_SIZE, shuffle=True, collate_fn=collator, num_workers=12)\n",
    "dev_dataloader = DataLoader(dataset_dev, batch_size=BS_SIZE, collate_fn=collator, num_workers=12)"
   ]
  },
  {
   "cell_type": "code",
   "execution_count": null,
   "metadata": {},
   "outputs": [],
   "source": [
    "config = ModelConfig()\n",
    "config.backbone = 'xlsr'\n",
    "config.specaugment=True\n",
    "config.feature_masking_percentage=0.02\n",
    "config.time_masking_percentage=0.02\n",
    "config.label_smoothing=0.1\n",
    "config.freeze_feature_extractor=True\n",
    "\n",
    "model = LitCSDetector(config=config)"
   ]
  },
  {
   "cell_type": "code",
   "execution_count": null,
   "metadata": {},
   "outputs": [],
   "source": [
    "from utils.lit_callbacks import BackboneFinetuning\n",
    "\n",
    "# Callbacks\n",
    "learning_rate_callback = LearningRateMonitor(logging_interval='step') \n",
    "checkpoint_callback = ModelCheckpoint(monitor='val/val_acc',\n",
    "                                        filename='{epoch}-{val/val_loss:.2f}-{val/val_auc:.2f}',\n",
    "                                        save_on_train_epoch_end=False,\n",
    "                                        auto_insert_metric_name=False,\n",
    "                                        save_last=True,\n",
    "                                        mode='max'\n",
    "                                        )\n",
    "unfreeze_at_epoch = 1                              \n",
    "backbone_finetuning_callback = BackboneFinetuning(unfreeze_at_epoch, lambda epoch: 2)\n",
    "device_stats_callback = DeviceStatsMonitor()\n",
    "\n",
    "callbacks = [learning_rate_callback, checkpoint_callback, device_stats_callback]\n",
    "\n",
    "# Logger                               \n",
    "tb_logger = pl_loggers.TensorBoardLogger(save_dir=\"../logs/\")\n",
    "trainer = pl.Trainer(logger=tb_logger, callbacks=callbacks, max_epochs=16, gpus=1, gradient_clip_val=0.5, accumulate_grad_batches=8, log_every_n_steps=100, precision=32)\n",
    "\n",
    "model.hparams.learning_rate = 5e-5\n",
    "trainer.fit(model, train_dataloader, dev_dataloader)"
   ]
  },
  {
   "cell_type": "code",
   "execution_count": null,
   "metadata": {},
   "outputs": [],
   "source": [
    "lr_finder = trainer.tuner.lr_find(model, train_dataloader, dev_dataloader)\n",
    "fig = lr_finder.plot(suggest=True)\n",
    "fig.show()"
   ]
  },
  {
   "cell_type": "markdown",
   "metadata": {},
   "source": [
    "### WavLM tinker"
   ]
  },
  {
   "cell_type": "code",
   "execution_count": null,
   "metadata": {},
   "outputs": [],
   "source": [
    "import sys\n",
    "sys.path.append('..')\n",
    "\n",
    "from models.WavLM import WavLM, WavLMConfig\n",
    "import torch\n",
    "import torch.nn.functional as F\n",
    "from models.lit_cs_detector import get_padding_masks_from_length\n",
    "\n",
    "# load the pre-trained checkpoints\n",
    "checkpoint = torch.load('/home/gfrost/projects/penguin/models/WavLM-Large.pt')\n",
    "cfg = WavLMConfig(checkpoint['cfg'])\n",
    "model = WavLM(cfg)\n",
    "model.load_state_dict(checkpoint['model'])\n",
    "\n",
    "model.eval()\n",
    "\n",
    "# extract the representation of last layer\n",
    "wav_input_16khz = torch.randn(2,10000)\n",
    "pad = torch.zeros(2, 5000)\n",
    "wav_input_16khz = torch.cat([wav_input_16khz, pad], dim=-1)\n",
    "lengths = torch.tensor([10000, 10000])\n",
    "padding_masks = get_padding_masks_from_length(wav_input_16khz, lengths)\n",
    "\n",
    "rep, lengths = model.extract_features(wav_input_16khz, output_layer=model.cfg.encoder_layers, padding_mask=padding_masks, ret_lengths=True)"
   ]
  },
  {
   "cell_type": "code",
   "execution_count": null,
   "metadata": {},
   "outputs": [],
   "source": [
    "masks = torch.zeros_like(wav_input_16khz)\n",
    "for i, length in enumerate(lengths): masks[i, length:] = 1"
   ]
  },
  {
   "cell_type": "code",
   "execution_count": null,
   "metadata": {},
   "outputs": [],
   "source": [
    "fake_input = torch.arange(100).unsqueeze(dim=0).repeat(lengths.size(0), 1)\n",
    "lengths = torch.tensor([50, 25]).unsqueeze(dim=-1).repeat(1, fake_input.size(-1))\n",
    "masks = fake_input > lengths"
   ]
  },
  {
   "cell_type": "code",
   "execution_count": null,
   "metadata": {},
   "outputs": [],
   "source": [
    "import torch\n",
    "import torch.nn.functional as F\n",
    "from WavLM import WavLM, WavLMConfig\n",
    "\n",
    "torch.autograd.set_detect_anomaly(True)\n",
    "\n",
    "checkpoint = torch.load('/home/gfrost/projects/penguin/models/WavLM-Large.pt')\n",
    "cfg = WavLMConfig(checkpoint['cfg'])\n",
    "\n",
    "model = WavLM(cfg)\n",
    "model.load_state_dict(checkpoint['model'])\n",
    "model.train()\n",
    "\n",
    "wav_input_16khz = torch.randn(2,10000)\n",
    "y_hat, _ = model.extract_features(wav_input_16khz)\n",
    "\n",
    "loss = F.cross_entropy(y_hat.view(-1, 1024), torch.ones((y_hat.view(-1, 1024).size(0)), dtype=torch.long))\n",
    "loss.backward()"
   ]
  },
  {
   "cell_type": "markdown",
   "metadata": {},
   "source": [
    "### Metrics\n",
    "\n",
    "Evaluate select models during development"
   ]
  },
  {
   "cell_type": "code",
   "execution_count": 1,
   "metadata": {},
   "outputs": [
    {
     "name": "stderr",
     "output_type": "stream",
     "text": [
      "/home/gfrost/anaconda3/envs/penguin/lib/python3.9/site-packages/tqdm/auto.py:22: TqdmWarning: IProgress not found. Please update jupyter and ipywidgets. See https://ipywidgets.readthedocs.io/en/stable/user_install.html\n",
      "  from .autonotebook import tqdm as notebook_tqdm\n"
     ]
    }
   ],
   "source": [
    "import sys\n",
    "sys.path.append('..')\n",
    "\n",
    "import torchmetrics.functional as FM\n",
    "import torch.nn.functional as F\n",
    "import torch\n",
    "from models.lit_cs_detector import LitCSDetector, get_unpadded_idxs\n",
    "from models.lit_blstm_e2e import LitBLSTME2E\n",
    "from utils.transforms import interp_targets\n",
    "from utils.datasets import load_dfs, create_dataloaders\n",
    "from tqdm import tqdm\n",
    "import matplotlib.pyplot as plt\n",
    "import numpy as np\n",
    "import pandas as pd\n",
    "import os"
   ]
  },
  {
   "cell_type": "code",
   "execution_count": 5,
   "metadata": {},
   "outputs": [],
   "source": [
    "data_dir=\"/home/gfrost/datasets\"\n",
    "supported_cs_pairs = [\"engzul\", \"engxho\", \"engtsn\", \"engsot\"]\n",
    "\n",
    "dfs_dev = []\n",
    "dfs_trn = []\n",
    "\n",
    "for cs_pair in supported_cs_pairs:\n",
    "    \n",
    "    data_df_root_dir = os.path.join(data_dir, \\\n",
    "        f\"soapies_balanced_corpora/cs_{cs_pair}_balanced/lang_targs_mult/\")\n",
    "    \n",
    "    df_trn, df_dev = load_dfs(data_df_root_dir, cs_pair, all_cs_pairs=True, lang_fams=False)\n",
    "    \n",
    "    dfs_dev.append(df_dev)\n",
    "    dfs_trn.append(df_trn)\n",
    "\n",
    "df_dev = pd.concat(dfs_dev)\n",
    "df_trn = pd.concat(dfs_trn)\n",
    "\n",
    "train_dataloader, dev_dataloader = create_dataloaders(df_trn, df_dev, melspecs=True, bs=8, num_workers=4)"
   ]
  },
  {
   "cell_type": "code",
   "execution_count": 42,
   "metadata": {},
   "outputs": [
    {
     "name": "stderr",
     "output_type": "stream",
     "text": [
      "100%|██████████| 222/222 [00:01<00:00, 178.20it/s]\n"
     ]
    }
   ],
   "source": [
    "from dataclasses import dataclass\n",
    "import torch.nn.utils.rnn as rnn_util\n",
    "\n",
    "@dataclass\n",
    "class ModelConfig():\n",
    "    n_classes:int=5\n",
    "model_config = ModelConfig()\n",
    "\n",
    "device = 'cuda:1'\n",
    "model_path = \"/home/gfrost/projects/penguin/logs/lightning_logs/version_116/checkpoints/43-0.00-0.00.ckpt\"\n",
    "ckpt = torch.load(model_path)['state_dict']\n",
    "\n",
    "model = LitBLSTME2E(model_config).to(device)\n",
    "model.load_state_dict(ckpt)\n",
    "\n",
    "model.eval()\n",
    "\n",
    "preds = []\n",
    "lengths = []\n",
    "wavs = []\n",
    "labels = []\n",
    "with torch.no_grad():\n",
    "    for batch in tqdm(dev_dataloader):\n",
    "        x, x_l, y, _ = batch\n",
    "        x = x.to(device)\n",
    "        x_l = x_l.to(device)\n",
    "        # y_hat, embeddings, _lengths, _ = model.forward(x, x_l)\n",
    "        y = interp_targets(y, x.size(1))\n",
    "        y = rnn_util.pack_padded_sequence(y, x_l.cpu(), batch_first=True, enforce_sorted=False).data.to(x.device)\n",
    "        x = rnn_util.pack_padded_sequence(x, x_l.cpu(), batch_first=True, enforce_sorted=False)\n",
    "        \n",
    "        y_hat, embeddings = model.forward(x)\n",
    "        # y = interp_targets(y, torch.max(_lengths))\n",
    "        \n",
    "        preds.append(y_hat.detach().cpu())\n",
    "        labels.append(y.detach().cpu())\n",
    "        # lengths.append(_lengths.detach().cpu())\n",
    "        lengths.append(x_l.detach().cpu())\n",
    "        # wavs.append(x.detach().cpu())"
   ]
  },
  {
   "cell_type": "code",
   "execution_count": null,
   "metadata": {},
   "outputs": [],
   "source": [
    "unbatched_preds = []\n",
    "unbatched_labels = []\n",
    "unbatched_wavs = []\n",
    "unbatched_lengths = []\n",
    "\n",
    "for i, pred_batch in enumerate(preds):\n",
    "    print(pred_batch.shape)\n",
    "    for j, pred in enumerate(pred_batch):\n",
    "        print(pred.shape)        \n",
    "        unbatched_preds.append(F.softmax(pred[:int(lengths[i][j])], dim=-1))\n",
    "        if len(labels[i].size()) > 1:\n",
    "            unbatched_labels.append(labels[i][j][:int(lengths[i][j])])\n",
    "        else: \n",
    "            unbatched_labels.append(labels[i][:int(lengths[i][j])])\n",
    "        unbatched_lengths.append(int(lengths[i][j]))\n",
    "        unbatched_wavs.append(wavs[i][j])"
   ]
  },
  {
   "cell_type": "code",
   "execution_count": 6,
   "metadata": {},
   "outputs": [
    {
     "name": "stdout",
     "output_type": "stream",
     "text": [
      "tensor([55821, 11906, 25854, 25808, 25648])\n"
     ]
    }
   ],
   "source": [
    "print(torch.bincount(torch.cat(unbatched_labels)))"
   ]
  },
  {
   "cell_type": "code",
   "execution_count": 7,
   "metadata": {},
   "outputs": [],
   "source": [
    "accuracy = (torch.softmax(torch.cat(unbatched_preds), dim=-1).argmax(dim=-1) == torch.cat(unbatched_labels)).sum().float() /float(torch.cat(unbatched_labels).size(0))\n",
    "pred_all_zero = (torch.zeros_like(torch.cat(unbatched_preds).argmax(dim=-1)) == torch.cat(unbatched_labels)).sum().float()/float(torch.cat(unbatched_labels).size(0))"
   ]
  },
  {
   "cell_type": "code",
   "execution_count": 8,
   "metadata": {},
   "outputs": [
    {
     "data": {
      "text/plain": [
       "<matplotlib.image.AxesImage at 0x7f181c33b2b0>"
      ]
     },
     "execution_count": 8,
     "metadata": {},
     "output_type": "execute_result"
    },
    {
     "data": {
      "text/plain": [
       "<Figure size 432x288 with 0 Axes>"
      ]
     },
     "metadata": {},
     "output_type": "display_data"
    },
    {
     "data": {
      "image/png": "[encoded data removed]",
      "text/plain": [
       "<Figure size 5472x576 with 2 Axes>"
      ]
     },
     "metadata": {
      "needs_background": "light"
     },
     "output_type": "display_data"
    }
   ],
   "source": [
    "# Some dev utts don't have cs\n",
    "index = 500\n",
    "\n",
    "plt.tight_layout()\n",
    "fig, axs = plt.subplots(2, 1, figsize=(len(unbatched_preds[index])*(16 / 24), 8))\n",
    "axs[0].imshow(F.one_hot(unbatched_preds[index].argmax(-1), num_classes=5).T)\n",
    "axs[1].imshow(F.one_hot(unbatched_labels[index], num_classes=5).T)"
   ]
  },
  {
   "cell_type": "code",
   "execution_count": 9,
   "metadata": {},
   "outputs": [],
   "source": [
    "per_utt_acc = [(preds.argmax(dim=-1).float()==unbatched_labels[i].float()).sum().float()/float(unbatched_labels[i].size(0)) for i, preds in enumerate(unbatched_preds)]\n",
    "# auc = FM.auroc(torch.cat(unbatched_preds)[:,1], torch.cat(unbatched_labels))\n",
    "# fpr, tpr, thresh = FM.roc(torch.cat(unbatched_preds)[:,1], torch.cat(unbatched_labels))"
   ]
  },
  {
   "cell_type": "code",
   "execution_count": 10,
   "metadata": {},
   "outputs": [],
   "source": [
    "per_utt_acc = np.array(per_utt_acc)\n",
    "\n",
    "idxs = np.argsort(per_utt_acc)\n",
    "per_utt_acc_sorted = per_utt_acc[idxs]\n",
    "per_utt_lengths_sorted = np.array(unbatched_lengths)[idxs]\n",
    "line_75 = int(len(per_utt_acc_sorted)*0.25)"
   ]
  },
  {
   "cell_type": "code",
   "execution_count": 11,
   "metadata": {},
   "outputs": [],
   "source": [
    "# save some bad wavs\n",
    "# from scipy.io import wavfile\n",
    "\n",
    "# for i in range(4):\n",
    "#     utterance = unbatched_wavs[idxs[i]]\n",
    "#     wavfile.write(f'bad_ld_utt_{i}.wav', 16000, np.array(utterance))"
   ]
  },
  {
   "cell_type": "code",
   "execution_count": 13,
   "metadata": {},
   "outputs": [
    {
     "data": {
      "image/png": "[encoded data removed]",
      "text/plain": [
       "<Figure size 1152x720 with 2 Axes>"
      ]
     },
     "metadata": {
      "needs_background": "light"
     },
     "output_type": "display_data"
    }
   ],
   "source": [
    "fig, ax1 = plt.subplots(figsize=(16,10))\n",
    "\n",
    "ax1.plot(np.flip(per_utt_acc_sorted), label=\"Accuracy\")\n",
    "\n",
    "ax2 = ax1.twinx()\n",
    "ax2.scatter(np.arange(len(per_utt_lengths_sorted)), np.flip(per_utt_lengths_sorted), label=\"Number of frames\", color='orange')\n",
    "\n",
    "ax1.legend()\n",
    "ax2.legend(loc='best', bbox_to_anchor=(1,0.95))\n",
    "ax2.set_ylabel(\"Number of frames\")\n",
    "ax1.set_ylabel(\"Accuracy\")\n",
    "ax1.set_xlabel(\"Utterences\")\n",
    "ax1.grid(True)\n",
    "# plt.savefig('../figs/acc_v_utt_wav2vec2_base_100_trn.jpeg', dpi=500)"
   ]
  },
  {
   "cell_type": "code",
   "execution_count": 14,
   "metadata": {},
   "outputs": [],
   "source": [
    "clean_unbatched_preds = [unbatched_preds[i] for i in idxs[per_utt_acc_sorted > 0.0]]\n",
    "clean_unbatched_labels = [unbatched_labels[i] for i in idxs[per_utt_acc_sorted > 0.0]]\n",
    "\n",
    "num_classes = 5\n",
    "cm_clean = np.array(FM.confusion_matrix(torch.cat(clean_unbatched_preds).argmax(dim=-1), torch.cat(clean_unbatched_labels), num_classes=num_classes))\n",
    "cm = np.array(FM.confusion_matrix(torch.cat(unbatched_preds).argmax(dim=-1), torch.cat(unbatched_labels), num_classes=num_classes))"
   ]
  },
  {
   "cell_type": "code",
   "execution_count": 15,
   "metadata": {},
   "outputs": [
    {
     "data": {
      "text/plain": [
       "tensor([55821, 11906, 25854, 25808, 25648])"
      ]
     },
     "execution_count": 15,
     "metadata": {},
     "output_type": "execute_result"
    }
   ],
   "source": [
    "torch.bincount(torch.cat(unbatched_labels))"
   ]
  },
  {
   "cell_type": "code",
   "execution_count": 16,
   "metadata": {},
   "outputs": [
    {
     "name": "stdout",
     "output_type": "stream",
     "text": [
      "tensor([0.8735, 0.8748, 0.8301, 0.6366, 0.8139], dtype=torch.float64)\n",
      "tensor([0.8489, 0.8525, 0.6671, 0.4506, 0.7085], dtype=torch.float64)\n",
      "1438\n",
      "1771\n"
     ]
    }
   ],
   "source": [
    "print(cm_clean[np.diag_indices(cm.shape[0])]/ torch.bincount(torch.cat(clean_unbatched_labels)))\n",
    "print(cm[np.diag_indices(cm.shape[0])]/ torch.bincount(torch.cat(unbatched_labels)))\n",
    "\n",
    "print(len(clean_unbatched_preds))\n",
    "print(len(unbatched_preds))\n"
   ]
  },
  {
   "cell_type": "code",
   "execution_count": 20,
   "metadata": {},
   "outputs": [
    {
     "data": {
      "image/png": "[encoded data removed]",
      "text/plain": [
       "<Figure size 720x576 with 2 Axes>"
      ]
     },
     "metadata": {
      "needs_background": "light"
     },
     "output_type": "display_data"
    }
   ],
   "source": [
    "target_names = [\"English\", \"Zulu\", \"Xhosa\", \"Sesotho\", \"Setswana\"]\n",
    "lang_fams = [\"English\", \"Nguni\", \"Sotho–Tswana\"]\n",
    "plot_cm(cm, target_names, save=True)"
   ]
  },
  {
   "cell_type": "code",
   "execution_count": 16,
   "metadata": {},
   "outputs": [
    {
     "data": {
      "image/png": "[encoded data removed]",
      "text/plain": [
       "<Figure size 720x576 with 2 Axes>"
      ]
     },
     "metadata": {
      "needs_background": "light"
     },
     "output_type": "display_data"
    }
   ],
   "source": [
    "target_names = [\"English\", \"Zulu\", \"Xhosa\", \"Sesotho\", \"Setswana\"]\n",
    "lang_fams = [\"English\", \"Nguni\", \"Sotho–Tswana\"]\n",
    "plot_cm(cm, target_names, save=True)"
   ]
  },
  {
   "cell_type": "code",
   "execution_count": null,
   "metadata": {},
   "outputs": [],
   "source": [
    "target_names = [\"English\", \"Zulu\", \"Xhosa\", \"Sesotho\", \"Setswana\"]\n",
    "lang_fams = [\"English\", \"Nguni\", \"Sotho–Tswana\"]\n",
    "plot_cm(cm_clean, lang_fams, save=False)"
   ]
  },
  {
   "cell_type": "code",
   "execution_count": 19,
   "metadata": {},
   "outputs": [],
   "source": [
    "import itertools\n",
    "\n",
    "def plot_cm(cm, target_names, norm=True, save=False):\n",
    "    \n",
    "    if norm: cm = np.round(cm / np.sum(cm, axis=1)[:, np.newaxis], 4)\n",
    "    plt.figure(figsize=(10, 8))\n",
    "    cmap = plt.get_cmap('Blues')\n",
    "    plt.imshow(cm, interpolation='nearest', cmap=cmap)\n",
    "    plt.colorbar()\n",
    "\n",
    "    tick_marks = np.arange(len(target_names))\n",
    "    plt.xticks(tick_marks, target_names, rotation=45)\n",
    "    plt.yticks(tick_marks, target_names)\n",
    "\n",
    "    thresh = cm.max() / 2\n",
    "    for i, j in itertools.product(range(cm.shape[0]), range(cm.shape[1])):\n",
    "        plt.text(j, i, \"{:,}\".format(cm[i, j]),\n",
    "                    horizontalalignment=\"center\",\n",
    "                    color=\"white\" if cm[i, j] > thresh else \"black\")\n",
    "\n",
    "\n",
    "    plt.tight_layout()\n",
    "    plt.ylabel('True label')\n",
    "    plt.xlabel('Predicted label')\n",
    "    if save: plt.savefig(\"../figs/cm.pdf\", dpi=500)\n",
    "    plt.show()"
   ]
  }
 ],
 "metadata": {
  "kernelspec": {
   "display_name": "Python 3.9.12 ('penguin')",
   "language": "python",
   "name": "python3"
  },
  "language_info": {
   "codemirror_mode": {
    "name": "ipython",
    "version": 3
   },
   "file_extension": ".py",
   "mimetype": "text/x-python",
   "name": "python",
   "nbconvert_exporter": "python",
   "pygments_lexer": "ipython3",
   "version": "3.9.12"
  },
  "orig_nbformat": 4,
  "vscode": {
   "interpreter": {
    "hash": "4f5ccf0edd792a46bb8f186cfaeaecd18c8446d3eb40ff41bb5151f9e3e53f00"
   }
  }
 },
 "nbformat": 4,
 "nbformat_minor": 2
}
